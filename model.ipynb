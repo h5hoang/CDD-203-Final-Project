{
 "cells": [
  {
   "cell_type": "code",
   "execution_count": 2,
   "metadata": {},
   "outputs": [
    {
     "name": "stderr",
     "output_type": "stream",
     "text": [
      "Downloading...\n",
      "100%|██████████| 885k/885k [00:00<00:00, 2.15MiB/s]\n",
      "Loading...\n",
      "Done!\n"
     ]
    },
    {
     "name": "stdout",
     "output_type": "stream",
     "text": [
      "{'train':       Drug_ID                                               Drug  Y\n",
      "0           1  COc1cc(N2Cc3ccc(Sc4ccc(F)cc4)nc3C2=O)ccc1OCCN1...  0\n",
      "1           2  CCOC(=O)[C@H]1CC[C@@H](N2CC(NC(=O)CNc3nn(C(N)=...  0\n",
      "2           3  N[C@@H](Cn1c(=O)cnc2ccc(F)cc21)C1CCC(NCc2ccc3c...  0\n",
      "3           4  O=C(NC1COc2cccc(-c3ccnc(CO)c3)c2C1)c1ccc(OCC(F...  0\n",
      "4           5      Cc1cc(Nc2cncc(N[C@@H](C)c3ncc(F)cn3)n2)n[nH]1  0\n",
      "...       ...                                                ... ..\n",
      "9407    13437               O=c1cc(-c2ccccc2)oc2cc(O)c(O)c(O)c12  0\n",
      "9408    13438  CN(C)c1ccc2cc(C(=O)N[C@@H](CCCNC(=N)CCl)C(=O)N...  0\n",
      "9409    13439  CCN(CC)CCCCNc1ncc2c(n1)N(C)C(=O)N(c1c(Cl)c(OC)...  0\n",
      "9410    13441              Cc1cccc(-c2n[nH]cc2-c2ccc3ncccc3n2)n1  0\n",
      "9411    13444  CCc1c(O)cc(O)c(C(=O)c2ccc(OCCN3CCOCC3)c(OC)c2)...  0\n",
      "\n",
      "[9412 rows x 3 columns], 'valid':       Drug_ID                                               Drug  Y\n",
      "0       10900  CC(C)(C)c1cc(NC(=O)n2ccc3ncc(OC4=NC=N[C@H]5CNC...  0\n",
      "1        1624  CC(C)OC(=O)C1=CN(C(=O)c2ccc(OCCCN3CCOCC3)cc2)C...  1\n",
      "2        4173  CS(=O)(=O)C1(c2cc(N3CCOCC3)nc(-c3cccc4[nH]ccc3...  0\n",
      "3        1291  CS(=O)(=O)Nc1ccc(CCN(CCOc2ccc(NS(C)(=O)=O)cc2)...  1\n",
      "4        7661  CCN[C@H]1CC[C@@H](c2c[nH]c3ccc(N=C(N)c4cccs4)c...  0\n",
      "...       ...                                                ... ..\n",
      "1339     1172  Cc1cc(Cn2cc(CN(C(=O)C3CNCCC3(O)c3ccc(F)c(F)c3)...  1\n",
      "1340     2467  Cc1c(C(F)CN2CCN(C(=O)Cc3ccc(-n4cnnn4)nc3)CC2)c...  0\n",
      "1341     9928              Clc1ccc2c(c1)NC(N1CCNCC1)=c1ccccc1=N2  1\n",
      "1342     4313  FC(F)(F)c1ccc(Nc2ncnc3cc(-c4ncccc4C(F)(F)F)ccc...  1\n",
      "1343     4497        CCn1c(-c2ccc(OCCCN3CCCCC3)cc2)nc2ccccc2c1=O  1\n",
      "\n",
      "[1344 rows x 3 columns], 'test':       Drug_ID                                               Drug  Y\n",
      "0       10325             COc1nccnc1CC1=C(CCN(C)C)Cc2cc(Cl)ccc21  1\n",
      "1       11864  O=C(NC1CCN(Cc2ccn(-c3ccc(C(F)(F)F)cc3)c2)CC1)N...  0\n",
      "2        5893                  Fc1ccc(Cn2cc(NCCN3CCCCC3)nn2)cc1F  0\n",
      "3        6664  CC1(C)C[C@@H](NC(=O)CC(O)(C(F)(F)F)C(F)(F)F)c2...  0\n",
      "4         977  O=C(O)C[C@@H]1c2ccccc2C[C@H]1NC(=O)c1cc2sc(Cl)...  0\n",
      "...       ...                                                ... ..\n",
      "2684     6422         O=c1cc([C@H]2CCN[C@@H](Cc3ccccc3)C2)o[nH]1  0\n",
      "2685    11883  C[C@@H]1CN(C(=O)c2ccccc2)CCN1C(=O)C(=O)c1c[nH]...  0\n",
      "2686     7349  O=C(Nc1ccc(-c2nnn[nH]2)cc1F)C(C1CCCCC1)n1c(-c2...  0\n",
      "2687     8836  C[C@]1(CS(=O)(=O)N2CCN(c3ncc(OCc4ccc(C(F)(F)F)...  0\n",
      "2688    11510  O=C(Nc1ccc(-c2nnc(NCCCN3CCCCC3)o2)cc1)c1c(F)cc...  1\n",
      "\n",
      "[2689 rows x 3 columns]}\n"
     ]
    }
   ],
   "source": [
    "from tdc.single_pred import Tox\n",
    "data = Tox(name = 'hERG_Karim')\n",
    "split = data.get_split()\n",
    "\n",
    "print(split)"
   ]
  }
 ],
 "metadata": {
  "kernelspec": {
   "display_name": "Python 3",
   "language": "python",
   "name": "python3"
  },
  "language_info": {
   "codemirror_mode": {
    "name": "ipython",
    "version": 3
   },
   "file_extension": ".py",
   "mimetype": "text/x-python",
   "name": "python",
   "nbconvert_exporter": "python",
   "pygments_lexer": "ipython3",
   "version": "3.9.6"
  }
 },
 "nbformat": 4,
 "nbformat_minor": 2
}
