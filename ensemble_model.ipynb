{
 "cells": [
  {
   "cell_type": "markdown",
   "metadata": {},
   "source": [
    "### Install Necessary Libraries"
   ]
  },
  {
   "cell_type": "code",
   "execution_count": null,
   "metadata": {},
   "outputs": [],
   "source": [
    "!pip install pandas\n",
    "!pip install numpy\n",
    "!pip install PyTDC\n",
    "!pip install rdkit\n",
    "!pip install scikit-learn \n",
    "!pip install seaborn"
   ]
  },
  {
   "cell_type": "markdown",
   "metadata": {},
   "source": [
    "### Import Libraries"
   ]
  },
  {
   "cell_type": "code",
   "execution_count": 2,
   "metadata": {},
   "outputs": [],
   "source": [
    "import pandas as pd\n",
    "import numpy as np\n",
    "from rdkit import Chem\n",
    "from rdkit.Chem import AllChem\n",
    "from rdkit.Chem import Descriptors\n",
    "from sklearn.model_selection import train_test_split, RandomizedSearchCV\n",
    "from sklearn.metrics import classification_report, roc_auc_score, accuracy_score\n",
    "from sklearn.preprocessing import StandardScaler\n",
    "from sklearn.ensemble import VotingClassifier, GradientBoostingClassifier, RandomForestClassifier, ExtraTreesClassifier\n",
    "from sklearn.linear_model import LogisticRegression\n",
    "from sklearn.neighbors import KNeighborsClassifier\n",
    "from scipy.stats import randint, uniform\n"
   ]
  },
  {
   "cell_type": "markdown",
   "metadata": {},
   "source": [
    "### Import Data"
   ]
  },
  {
   "cell_type": "code",
   "execution_count": 3,
   "metadata": {},
   "outputs": [
    {
     "name": "stderr",
     "output_type": "stream",
     "text": [
      "Found local copy...\n",
      "Loading...\n",
      "Done!\n"
     ]
    },
    {
     "name": "stdout",
     "output_type": "stream",
     "text": [
      "{'train':       Drug_ID                                               Drug  Y\n",
      "0           1  COc1cc(N2Cc3ccc(Sc4ccc(F)cc4)nc3C2=O)ccc1OCCN1...  0\n",
      "1           2  CCOC(=O)[C@H]1CC[C@@H](N2CC(NC(=O)CNc3nn(C(N)=...  0\n",
      "2           3  N[C@@H](Cn1c(=O)cnc2ccc(F)cc21)C1CCC(NCc2ccc3c...  0\n",
      "3           4  O=C(NC1COc2cccc(-c3ccnc(CO)c3)c2C1)c1ccc(OCC(F...  0\n",
      "4           5      Cc1cc(Nc2cncc(N[C@@H](C)c3ncc(F)cn3)n2)n[nH]1  0\n",
      "...       ...                                                ... ..\n",
      "9407    13437               O=c1cc(-c2ccccc2)oc2cc(O)c(O)c(O)c12  0\n",
      "9408    13438  CN(C)c1ccc2cc(C(=O)N[C@@H](CCCNC(=N)CCl)C(=O)N...  0\n",
      "9409    13439  CCN(CC)CCCCNc1ncc2c(n1)N(C)C(=O)N(c1c(Cl)c(OC)...  0\n",
      "9410    13441              Cc1cccc(-c2n[nH]cc2-c2ccc3ncccc3n2)n1  0\n",
      "9411    13444  CCc1c(O)cc(O)c(C(=O)c2ccc(OCCN3CCOCC3)c(OC)c2)...  0\n",
      "\n",
      "[9412 rows x 3 columns], 'valid':       Drug_ID                                               Drug  Y\n",
      "0       10900  CC(C)(C)c1cc(NC(=O)n2ccc3ncc(OC4=NC=N[C@H]5CNC...  0\n",
      "1        1624  CC(C)OC(=O)C1=CN(C(=O)c2ccc(OCCCN3CCOCC3)cc2)C...  1\n",
      "2        4173  CS(=O)(=O)C1(c2cc(N3CCOCC3)nc(-c3cccc4[nH]ccc3...  0\n",
      "3        1291  CS(=O)(=O)Nc1ccc(CCN(CCOc2ccc(NS(C)(=O)=O)cc2)...  1\n",
      "4        7661  CCN[C@H]1CC[C@@H](c2c[nH]c3ccc(N=C(N)c4cccs4)c...  0\n",
      "...       ...                                                ... ..\n",
      "1339     1172  Cc1cc(Cn2cc(CN(C(=O)C3CNCCC3(O)c3ccc(F)c(F)c3)...  1\n",
      "1340     2467  Cc1c(C(F)CN2CCN(C(=O)Cc3ccc(-n4cnnn4)nc3)CC2)c...  0\n",
      "1341     9928              Clc1ccc2c(c1)NC(N1CCNCC1)=c1ccccc1=N2  1\n",
      "1342     4313  FC(F)(F)c1ccc(Nc2ncnc3cc(-c4ncccc4C(F)(F)F)ccc...  1\n",
      "1343     4497        CCn1c(-c2ccc(OCCCN3CCCCC3)cc2)nc2ccccc2c1=O  1\n",
      "\n",
      "[1344 rows x 3 columns], 'test':       Drug_ID                                               Drug  Y\n",
      "0       10325             COc1nccnc1CC1=C(CCN(C)C)Cc2cc(Cl)ccc21  1\n",
      "1       11864  O=C(NC1CCN(Cc2ccn(-c3ccc(C(F)(F)F)cc3)c2)CC1)N...  0\n",
      "2        5893                  Fc1ccc(Cn2cc(NCCN3CCCCC3)nn2)cc1F  0\n",
      "3        6664  CC1(C)C[C@@H](NC(=O)CC(O)(C(F)(F)F)C(F)(F)F)c2...  0\n",
      "4         977  O=C(O)C[C@@H]1c2ccccc2C[C@H]1NC(=O)c1cc2sc(Cl)...  0\n",
      "...       ...                                                ... ..\n",
      "2684     6422         O=c1cc([C@H]2CCN[C@@H](Cc3ccccc3)C2)o[nH]1  0\n",
      "2685    11883  C[C@@H]1CN(C(=O)c2ccccc2)CCN1C(=O)C(=O)c1c[nH]...  0\n",
      "2686     7349  O=C(Nc1ccc(-c2nnn[nH]2)cc1F)C(C1CCCCC1)n1c(-c2...  0\n",
      "2687     8836  C[C@]1(CS(=O)(=O)N2CCN(c3ncc(OCc4ccc(C(F)(F)F)...  0\n",
      "2688    11510  O=C(Nc1ccc(-c2nnc(NCCCN3CCCCC3)o2)cc1)c1c(F)cc...  1\n",
      "\n",
      "[2689 rows x 3 columns]}\n"
     ]
    }
   ],
   "source": [
    "from tdc.single_pred import Tox\n",
    "data = Tox(name = 'hERG_Karim')\n",
    "split = data.get_split()\n",
    "\n",
    "print(split)"
   ]
  },
  {
   "cell_type": "markdown",
   "metadata": {},
   "source": [
    "### Clean Data"
   ]
  },
  {
   "cell_type": "code",
   "execution_count": 4,
   "metadata": {},
   "outputs": [
    {
     "name": "stdout",
     "output_type": "stream",
     "text": [
      "{'train':       Drug_ID                                               Drug  Y\n",
      "0           1  COc1cc(N2Cc3ccc(Sc4ccc(F)cc4)nc3C2=O)ccc1OCCN1...  0\n",
      "1           2  CCOC(=O)[C@H]1CC[C@@H](N2CC(NC(=O)CNc3nn(C(N)=...  0\n",
      "2           3  N[C@@H](Cn1c(=O)cnc2ccc(F)cc21)C1CCC(NCc2ccc3c...  0\n",
      "3           4  O=C(NC1COc2cccc(-c3ccnc(CO)c3)c2C1)c1ccc(OCC(F...  0\n",
      "4           5      Cc1cc(Nc2cncc(N[C@@H](C)c3ncc(F)cn3)n2)n[nH]1  0\n",
      "...       ...                                                ... ..\n",
      "9407    13437               O=c1cc(-c2ccccc2)oc2cc(O)c(O)c(O)c12  0\n",
      "9408    13438  CN(C)c1ccc2cc(C(=O)N[C@@H](CCCNC(=N)CCl)C(=O)N...  0\n",
      "9409    13439  CCN(CC)CCCCNc1ncc2c(n1)N(C)C(=O)N(c1c(Cl)c(OC)...  0\n",
      "9410    13441              Cc1cccc(-c2n[nH]cc2-c2ccc3ncccc3n2)n1  0\n",
      "9411    13444  CCc1c(O)cc(O)c(C(=O)c2ccc(OCCN3CCOCC3)c(OC)c2)...  0\n",
      "\n",
      "[9412 rows x 3 columns], 'valid':       Drug_ID                                               Drug  Y\n",
      "0       10900  CC(C)(C)c1cc(NC(=O)n2ccc3ncc(OC4=NC=N[C@H]5CNC...  0\n",
      "1        1624  CC(C)OC(=O)C1=CN(C(=O)c2ccc(OCCCN3CCOCC3)cc2)C...  1\n",
      "2        4173  CS(=O)(=O)C1(c2cc(N3CCOCC3)nc(-c3cccc4[nH]ccc3...  0\n",
      "3        1291  CS(=O)(=O)Nc1ccc(CCN(CCOc2ccc(NS(C)(=O)=O)cc2)...  1\n",
      "4        7661  CCN[C@H]1CC[C@@H](c2c[nH]c3ccc(N=C(N)c4cccs4)c...  0\n",
      "...       ...                                                ... ..\n",
      "1339     1172  Cc1cc(Cn2cc(CN(C(=O)C3CNCCC3(O)c3ccc(F)c(F)c3)...  1\n",
      "1340     2467  Cc1c(C(F)CN2CCN(C(=O)Cc3ccc(-n4cnnn4)nc3)CC2)c...  0\n",
      "1341     9928              Clc1ccc2c(c1)NC(N1CCNCC1)=c1ccccc1=N2  1\n",
      "1342     4313  FC(F)(F)c1ccc(Nc2ncnc3cc(-c4ncccc4C(F)(F)F)ccc...  1\n",
      "1343     4497        CCn1c(-c2ccc(OCCCN3CCCCC3)cc2)nc2ccccc2c1=O  1\n",
      "\n",
      "[1344 rows x 3 columns], 'test':       Drug_ID                                               Drug  Y\n",
      "0       10325             COc1nccnc1CC1=C(CCN(C)C)Cc2cc(Cl)ccc21  1\n",
      "1       11864  O=C(NC1CCN(Cc2ccn(-c3ccc(C(F)(F)F)cc3)c2)CC1)N...  0\n",
      "2        5893                  Fc1ccc(Cn2cc(NCCN3CCCCC3)nn2)cc1F  0\n",
      "3        6664  CC1(C)C[C@@H](NC(=O)CC(O)(C(F)(F)F)C(F)(F)F)c2...  0\n",
      "4         977  O=C(O)C[C@@H]1c2ccccc2C[C@H]1NC(=O)c1cc2sc(Cl)...  0\n",
      "...       ...                                                ... ..\n",
      "2684     6422         O=c1cc([C@H]2CCN[C@@H](Cc3ccccc3)C2)o[nH]1  0\n",
      "2685    11883  C[C@@H]1CN(C(=O)c2ccccc2)CCN1C(=O)C(=O)c1c[nH]...  0\n",
      "2686     7349  O=C(Nc1ccc(-c2nnn[nH]2)cc1F)C(C1CCCCC1)n1c(-c2...  0\n",
      "2687     8836  C[C@]1(CS(=O)(=O)N2CCN(c3ncc(OCc4ccc(C(F)(F)F)...  0\n",
      "2688    11510  O=C(Nc1ccc(-c2nnc(NCCCN3CCCCC3)o2)cc1)c1c(F)cc...  1\n",
      "\n",
      "[2689 rows x 3 columns]}\n",
      "Split: train\n",
      "Y\n",
      "1    0.50085\n",
      "0    0.49915\n",
      "Name: proportion, dtype: float64\n",
      "balanced\n",
      "Split: valid\n",
      "Y\n",
      "0    0.508185\n",
      "1    0.491815\n",
      "Name: proportion, dtype: float64\n",
      "balanced\n",
      "Split: test\n",
      "Y\n",
      "0    0.500558\n",
      "1    0.499442\n",
      "Name: proportion, dtype: float64\n",
      "balanced\n"
     ]
    }
   ],
   "source": [
    "# helper function to check SMILE strings from dataset w/ RDKit\n",
    "def validate_smiles(smiles):\n",
    "    try:\n",
    "        # converts SMILES to molecular obj\n",
    "        mol = Chem.MolFromSmiles(smiles)\n",
    "\n",
    "        # checks if molecular object is valid and returns true if it is\n",
    "        return mol is not None\n",
    "\n",
    "    #else false\n",
    "    except:\n",
    "        return False\n",
    "\n",
    "# helper function to clean the dataset splits\n",
    "def clean_data(split):\n",
    "    cleaned_split = {}\n",
    "\n",
    "\n",
    "    for key, df in split.items():\n",
    "        # removes dupes\n",
    "        df = df.drop_duplicates()\n",
    "\n",
    "        # fills in missing vals w/ median & unknown column\n",
    "        for col in df.columns:\n",
    "            if df[col].dtype in ['float64', 'int64']:\n",
    "                df[col] = df[col].fillna(df[col].median())\n",
    "            else:\n",
    "                df[col] = df[col].fillna('Unknown')\n",
    "\n",
    "        # removes xtra space if there is any and converts binary column of Y into integers\n",
    "        df['Drug'] = df['Drug'].astype(str)\n",
    "        df['Drug'] = df['Drug'].str.strip()\n",
    "        df['Y'] = df['Y'].astype(int)\n",
    "\n",
    "        # checks SMILES strs and keep only valid ones that are in RDKit\n",
    "        df['Valid_SMILES'] = df['Drug'].apply(validate_smiles)\n",
    "        df = df[df['Valid_SMILES']]\n",
    "        df = df.drop(columns=['Valid_SMILES'])\n",
    "\n",
    "        #append cleaned data splits onto list\n",
    "        cleaned_split[key] = df\n",
    "\n",
    "    return cleaned_split\n",
    "\n",
    "#checking cleaned dataset splits\n",
    "cleaned_split = clean_data(split)\n",
    "print(cleaned_split)\n",
    "\n",
    "# checking balance\n",
    "def check_balance(cleaned_split):\n",
    "    for key, df in cleaned_split.items():\n",
    "        print(f\"Split: {key}\")\n",
    "        y_distribution = df['Y'].value_counts(normalize=True)\n",
    "        print(y_distribution)\n",
    "        if (y_distribution.min() < 0.4) or (y_distribution.max() > 0.6):\n",
    "            print(\"unbalanced\")\n",
    "        else:\n",
    "            print(\"balanced\")\n",
    "\n",
    "check_balance(cleaned_split)"
   ]
  },
  {
   "cell_type": "markdown",
   "metadata": {},
   "source": [
    "### Selecting Features"
   ]
  },
  {
   "cell_type": "code",
   "execution_count": 5,
   "metadata": {},
   "outputs": [],
   "source": [
    "# create morgan fingerprints for SMILES using RDKit\n",
    "def generate_fingerprints(smiles):\n",
    "\n",
    "    # create molecule from smiles strings\n",
    "    mol = Chem.MolFromSmiles(smiles)\n",
    "    if mol is not None:\n",
    "      # radius of 2 to check interactions 2 bonds away, 2048 bits is\n",
    "      #(makes the ifngerprints 2048 bits), could use 1024 bits as well but it lowers f1 score\n",
    "      fp = AllChem.GetMorganFingerprintAsBitVect(mol, 2, nBits=2048)\n",
    "\n",
    "      # turns fingerprint into a list of binary numbers\n",
    "      return list(fp)\n",
    "    else:\n",
    "      # no bits for hte ifngerprints if SMILES is invalid\n",
    "      return [0] * 2048\n",
    "\n",
    "# FEATURE ENGINEERING on training dataset\n",
    "train = cleaned_split['train']\n",
    "# create fingerprints for each molecules in the training dataset\n",
    "train_fingerprints = train['Drug'].apply(generate_fingerprints).to_list()\n",
    "# turn fingerprints into a df so the code can run\n",
    "X_train = pd.DataFrame(train_fingerprints)\n",
    "# retrieve the Y column of the dataset that has labels (blockers = 1, not a blocker = 0)\n",
    "y_train = train['Y']\n",
    "\n",
    "# same thing as above but on the validation dataset\n",
    "valid = cleaned_split['valid']\n",
    "valid_fingerprints = valid['Drug'].apply(generate_fingerprints).to_list()\n",
    "X_valid = pd.DataFrame(valid_fingerprints)\n",
    "y_valid = valid['Y']\n",
    "\n",
    "# same thing as above but on the test dataset\n",
    "test = cleaned_split['test']\n",
    "test_fingerprints = test['Drug'].apply(generate_fingerprints).to_list()\n",
    "X_test = pd.DataFrame(test_fingerprints)\n",
    "y_test = test['Y']"
   ]
  },
  {
   "cell_type": "markdown",
   "metadata": {},
   "source": [
    "### Ensemble Model + Finetuning Parameters"
   ]
  },
  {
   "cell_type": "code",
   "execution_count": 6,
   "metadata": {},
   "outputs": [
    {
     "name": "stderr",
     "output_type": "stream",
     "text": [
      "/Users/hansonhoang/Library/Python/3.9/lib/python/site-packages/sklearn/linear_model/_logistic.py:458: ConvergenceWarning: lbfgs failed to converge (status=1):\n",
      "STOP: TOTAL NO. of ITERATIONS REACHED LIMIT.\n",
      "\n",
      "Increase the number of iterations (max_iter) or scale the data as shown in:\n",
      "    https://scikit-learn.org/stable/modules/preprocessing.html\n",
      "Please also refer to the documentation for alternative solver options:\n",
      "    https://scikit-learn.org/stable/modules/linear_model.html#logistic-regression\n",
      "  n_iter_i = _check_optimize_result(\n",
      "/Users/hansonhoang/Library/Python/3.9/lib/python/site-packages/sklearn/linear_model/_logistic.py:458: ConvergenceWarning: lbfgs failed to converge (status=1):\n",
      "STOP: TOTAL NO. of ITERATIONS REACHED LIMIT.\n",
      "\n",
      "Increase the number of iterations (max_iter) or scale the data as shown in:\n",
      "    https://scikit-learn.org/stable/modules/preprocessing.html\n",
      "Please also refer to the documentation for alternative solver options:\n",
      "    https://scikit-learn.org/stable/modules/linear_model.html#logistic-regression\n",
      "  n_iter_i = _check_optimize_result(\n",
      "/Users/hansonhoang/Library/Python/3.9/lib/python/site-packages/sklearn/linear_model/_logistic.py:458: ConvergenceWarning: lbfgs failed to converge (status=1):\n",
      "STOP: TOTAL NO. of ITERATIONS REACHED LIMIT.\n",
      "\n",
      "Increase the number of iterations (max_iter) or scale the data as shown in:\n",
      "    https://scikit-learn.org/stable/modules/preprocessing.html\n",
      "Please also refer to the documentation for alternative solver options:\n",
      "    https://scikit-learn.org/stable/modules/linear_model.html#logistic-regression\n",
      "  n_iter_i = _check_optimize_result(\n",
      "/Users/hansonhoang/Library/Python/3.9/lib/python/site-packages/sklearn/linear_model/_logistic.py:458: ConvergenceWarning: lbfgs failed to converge (status=1):\n",
      "STOP: TOTAL NO. of ITERATIONS REACHED LIMIT.\n",
      "\n",
      "Increase the number of iterations (max_iter) or scale the data as shown in:\n",
      "    https://scikit-learn.org/stable/modules/preprocessing.html\n",
      "Please also refer to the documentation for alternative solver options:\n",
      "    https://scikit-learn.org/stable/modules/linear_model.html#logistic-regression\n",
      "  n_iter_i = _check_optimize_result(\n",
      "/Users/hansonhoang/Library/Python/3.9/lib/python/site-packages/sklearn/linear_model/_logistic.py:458: ConvergenceWarning: lbfgs failed to converge (status=1):\n",
      "STOP: TOTAL NO. of ITERATIONS REACHED LIMIT.\n",
      "\n",
      "Increase the number of iterations (max_iter) or scale the data as shown in:\n",
      "    https://scikit-learn.org/stable/modules/preprocessing.html\n",
      "Please also refer to the documentation for alternative solver options:\n",
      "    https://scikit-learn.org/stable/modules/linear_model.html#logistic-regression\n",
      "  n_iter_i = _check_optimize_result(\n",
      "/Users/hansonhoang/Library/Python/3.9/lib/python/site-packages/sklearn/linear_model/_logistic.py:458: ConvergenceWarning: lbfgs failed to converge (status=1):\n",
      "STOP: TOTAL NO. of ITERATIONS REACHED LIMIT.\n",
      "\n",
      "Increase the number of iterations (max_iter) or scale the data as shown in:\n",
      "    https://scikit-learn.org/stable/modules/preprocessing.html\n",
      "Please also refer to the documentation for alternative solver options:\n",
      "    https://scikit-learn.org/stable/modules/linear_model.html#logistic-regression\n",
      "  n_iter_i = _check_optimize_result(\n",
      "/Users/hansonhoang/Library/Python/3.9/lib/python/site-packages/sklearn/linear_model/_logistic.py:458: ConvergenceWarning: lbfgs failed to converge (status=1):\n",
      "STOP: TOTAL NO. of ITERATIONS REACHED LIMIT.\n",
      "\n",
      "Increase the number of iterations (max_iter) or scale the data as shown in:\n",
      "    https://scikit-learn.org/stable/modules/preprocessing.html\n",
      "Please also refer to the documentation for alternative solver options:\n",
      "    https://scikit-learn.org/stable/modules/linear_model.html#logistic-regression\n",
      "  n_iter_i = _check_optimize_result(\n"
     ]
    },
    {
     "name": "stdout",
     "output_type": "stream",
     "text": [
      "Best Parameters: {'et__max_depth': 22, 'et__n_estimators': 842, 'gb__learning_rate': 0.11940744004284165, 'gb__max_depth': 8, 'gb__n_estimators': 619, 'knn__n_neighbors': 5, 'lr__C': 57.0071170089365, 'rf__max_depth': 28, 'rf__n_estimators': 675}\n",
      "Best Score: 0.8861042206382835\n",
      "Validation Results:\n",
      "              precision    recall  f1-score   support\n",
      "\n",
      "           0       0.85      0.84      0.85       683\n",
      "           1       0.84      0.85      0.84       661\n",
      "\n",
      "    accuracy                           0.85      1344\n",
      "   macro avg       0.85      0.85      0.85      1344\n",
      "weighted avg       0.85      0.85      0.85      1344\n",
      "\n",
      "AUC-ROC: 0.9193488724435889\n"
     ]
    }
   ],
   "source": [
    "# models to be inputted into the ensemble model\n",
    "# excluded SVM bc it took wayyyyyyy too long to run and finetune:(\n",
    "model1 = GradientBoostingClassifier(random_state=42)\n",
    "model2 = RandomForestClassifier(random_state=42)\n",
    "model3 = LogisticRegression(max_iter=1000, random_state=42)\n",
    "model4 = ExtraTreesClassifier(random_state=42)  \n",
    "model5 = KNeighborsClassifier()  \n",
    "\n",
    "# intialize  ensemble model\n",
    "ensemble_model = VotingClassifier(\n",
    "    estimators=[\n",
    "        ('gb', model1),\n",
    "        ('rf', model2),\n",
    "        ('lr', model3),\n",
    "        ('et', model4),\n",
    "        ('knn', model5)\n",
    "    ],\n",
    "    voting='soft'\n",
    ")\n",
    "\n",
    "# parameter distributions for each model and the parameters i want to finetune\n",
    "param_dist = {\n",
    "    'gb__n_estimators': randint(50, 1000),\n",
    "    'gb__learning_rate': uniform(0.001, 0.3),\n",
    "    'gb__max_depth': randint(3, 10),\n",
    "\n",
    "    'rf__n_estimators': randint(50, 1000),\n",
    "    'rf__max_depth': randint(5, 30),\n",
    "\n",
    "    'lr__C': uniform(0.001, 100),\n",
    "    \n",
    "    'et__n_estimators': randint(50, 1000),  \n",
    "    'et__max_depth': randint(5, 30),       \n",
    "\n",
    "    'knn__n_neighbors': randint(3, 15)    \n",
    "}\n",
    "\n",
    "# randomized search 50 bc 100+ took way too long\n",
    "random_search = RandomizedSearchCV(\n",
    "    estimator=ensemble_model,\n",
    "    param_distributions=param_dist,\n",
    "    n_iter=50,\n",
    "    cv=3,\n",
    "    scoring='roc_auc',\n",
    "    random_state=42,\n",
    "    n_jobs=-1\n",
    ")\n",
    "\n",
    "# fit RandomizedSearchCV\n",
    "random_search.fit(X_train, y_train)\n",
    "\n",
    "# printing out best parameters and score\n",
    "print(\"Best Parameters:\", random_search.best_params_)\n",
    "print(\"Best Score:\", random_search.best_score_)\n",
    "\n",
    "# validate the model\n",
    "y_pred_valid = random_search.best_estimator_.predict(X_valid)\n",
    "y_pred_proba_valid = random_search.best_estimator_.predict_proba(X_valid)[:, 1]\n",
    "\n",
    "# print validation scores\n",
    "print(\"Validation Results:\")\n",
    "print(classification_report(y_valid, y_pred_valid))\n",
    "print(f\"AUC-ROC: {roc_auc_score(y_valid, y_pred_proba_valid)}\")"
   ]
  },
  {
   "cell_type": "code",
   "execution_count": 13,
   "metadata": {},
   "outputs": [
    {
     "name": "stdout",
     "output_type": "stream",
     "text": [
      "Accuracy: 0.8452380952380952\n"
     ]
    }
   ],
   "source": [
    "print(f\"Accuracy: {accuracy_score(y_valid, y_pred_valid)}\")"
   ]
  },
  {
   "cell_type": "markdown",
   "metadata": {},
   "source": [
    "### Final Evaluation with Best Parameters"
   ]
  },
  {
   "cell_type": "code",
   "execution_count": 7,
   "metadata": {},
   "outputs": [
    {
     "name": "stdout",
     "output_type": "stream",
     "text": [
      "Test Results:\n",
      "Accuracy: 0.8419486798066196\n",
      "              precision    recall  f1-score   support\n",
      "\n",
      "           0       0.85      0.84      0.84      1346\n",
      "           1       0.84      0.85      0.84      1343\n",
      "\n",
      "    accuracy                           0.84      2689\n",
      "   macro avg       0.84      0.84      0.84      2689\n",
      "weighted avg       0.84      0.84      0.84      2689\n",
      "\n",
      "AUC-ROC: 0.9185803555721761\n"
     ]
    }
   ],
   "source": [
    "# updated w/ best parameters from randomizedsearch\n",
    "model1 = GradientBoostingClassifier(\n",
    "    learning_rate= 0.11940744004284165,\n",
    "    max_depth=8,\n",
    "    n_estimators= 619,\n",
    "    random_state=42\n",
    ")\n",
    "model2 = RandomForestClassifier(\n",
    "    max_depth=28,\n",
    "    n_estimators=675,\n",
    "    random_state=42\n",
    ")\n",
    "model3 = LogisticRegression(\n",
    "    C=57.0071170089365,\n",
    "    max_iter= 1000,\n",
    "    random_state=42\n",
    ")\n",
    "model4 = ExtraTreesClassifier(\n",
    "    max_depth= 22,\n",
    "    n_estimators=842,\n",
    "    random_state=42\n",
    ")\n",
    "model5 = KNeighborsClassifier(\n",
    "    n_neighbors=5\n",
    ")\n",
    "\n",
    "# intialize  the ensemble model\n",
    "ensemble_model = VotingClassifier(\n",
    "    estimators=[\n",
    "        ('gb', model1),\n",
    "        ('rf', model2),\n",
    "        ('lr', model3),\n",
    "        ('et', model4),\n",
    "        ('knn', model5)\n",
    "    ],\n",
    "    voting='soft'\n",
    ")\n",
    "\n",
    "# fit ensemble model to the training data\n",
    "ensemble_model.fit(X_train, y_train)\n",
    "\n",
    "# predict on test set\n",
    "y_pred_test = ensemble_model.predict(X_test)\n",
    "y_pred_proba_test = ensemble_model.predict_proba(X_test)[:, 1]\n",
    "\n",
    "# results from test set\n",
    "print(\"Test Results:\")\n",
    "print(f\"Accuracy: {accuracy_score(y_test, y_pred_test)}\")\n",
    "print(classification_report(y_test, y_pred_test))\n",
    "print(f\"AUC-ROC: {roc_auc_score(y_test, y_pred_proba_test)}\")\n"
   ]
  },
  {
   "cell_type": "markdown",
   "metadata": {},
   "source": [
    "### Visualization of Results"
   ]
  },
  {
   "cell_type": "code",
   "execution_count": 8,
   "metadata": {},
   "outputs": [
    {
     "data": {
      "image/png": "[encoded data removed]",
      "text/plain": [
       "<Figure size 800x600 with 1 Axes>"
      ]
     },
     "metadata": {},
     "output_type": "display_data"
    }
   ],
   "source": [
    "# ROC Curve plot from test dataset\n",
    "\n",
    "import matplotlib.pyplot as plt\n",
    "from sklearn.metrics import roc_curve, auc\n",
    "\n",
    "# generate ROC curve for test set\n",
    "fpr, tpr, thresholds = roc_curve(y_test, y_pred_proba_test)\n",
    "roc_auc = auc(fpr, tpr)\n",
    "\n",
    "plt.figure(figsize=(8, 6))\n",
    "plt.plot(fpr, tpr, color='blue', lw=2, label=f'ROC curve (AUC = {roc_auc:.2f})')\n",
    "plt.plot([0, 1], [0, 1], color='gray', lw=2, linestyle='--')  \n",
    "plt.ylim([0.0, 1.05])\n",
    "plt.xlabel('False Positive Rate')\n",
    "plt.ylabel('True Positive Rate')\n",
    "plt.title('Receiver Operating Characteristic (ROC) Curve')\n",
    "plt.legend(loc='lower right')\n",
    "plt.show()\n"
   ]
  },
  {
   "cell_type": "code",
   "execution_count": 9,
   "metadata": {},
   "outputs": [
    {
     "data": {
      "image/png": "[encoded data removed]",
      "text/plain": [
       "<Figure size 800x600 with 2 Axes>"
      ]
     },
     "metadata": {},
     "output_type": "display_data"
    }
   ],
   "source": [
    "# confusion matrix plot based on test dataset\n",
    "\n",
    "from sklearn.metrics import confusion_matrix\n",
    "import seaborn as sns\n",
    "\n",
    "cm = confusion_matrix(y_test, y_pred_test)\n",
    "\n",
    "plt.figure(figsize=(8, 6))\n",
    "sns.heatmap(cm, annot=True, fmt='d', cmap='Blues', xticklabels=['Not Blocker (0)', 'Blocker (1)'], yticklabels=['Not Blocker', 'Blocker'])\n",
    "plt.xlabel('Predicted')\n",
    "plt.ylabel('True')\n",
    "plt.title('Confusion Matrix')\n",
    "plt.show()\n"
   ]
  }
 ],
 "metadata": {
  "kernelspec": {
   "display_name": "Python 3",
   "language": "python",
   "name": "python3"
  },
  "language_info": {
   "codemirror_mode": {
    "name": "ipython",
    "version": 3
   },
   "file_extension": ".py",
   "mimetype": "text/x-python",
   "name": "python",
   "nbconvert_exporter": "python",
   "pygments_lexer": "ipython3",
   "version": "3.9.6"
  }
 },
 "nbformat": 4,
 "nbformat_minor": 2
}
