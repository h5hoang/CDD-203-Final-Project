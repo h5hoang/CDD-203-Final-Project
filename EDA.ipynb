{
 "cells": [
  {
   "cell_type": "code",
   "execution_count": null,
   "metadata": {
    "vscode": {
     "languageId": "plaintext"
    }
   },
   "outputs": [],
   "source": [
    "from tdc.single_pred import Tox\n",
    "data = Tox(name = 'hERG_Karim')\n",
    "split = data.get_split()\n",
    "\n",
    "print(split)"
   ]
  }
 ],
 "metadata": {
  "language_info": {
   "name": "python"
  }
 },
 "nbformat": 4,
 "nbformat_minor": 2
}
